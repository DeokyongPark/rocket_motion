{
 "cells": [
  {
   "cell_type": "code",
   "execution_count": 4,
   "metadata": {},
   "outputs": [
    {
     "name": "stdout",
     "output_type": "stream",
     "text": [
      "Connect _ MD400T\n"
     ]
    }
   ],
   "source": [
    "import serial\n",
    "import time\n",
    "from collections import deque\n",
    "import numpy as np\n",
    "\n",
    "RMID = 183          # RMID\n",
    "TMID = 184          # TMID\n",
    "ID = 1              # ID\n",
    "PID_MAINBC = 10     # PID (MAINBC)\n",
    "PID_CMD = 207       # PID (207 = RPM)\n",
    "DATA_NUM = 7        # PID 207 DATA_NUM\n",
    "WHEEL_L_ENABLE = 1  # L모터 Enable\n",
    "WHEEL_R_ENABLE = 1  # R모터 Enable\n",
    "DUMMY = 0           # CRC 전 DUMMY\n",
    "\n",
    "portM = \"/dev/ttyMD400\" #PC에 연결된 포트명\n",
    "baudM = 57600  # 시리얼 보드레이트(통신속도)\n",
    "try:\n",
    "    serM = serial.Serial(portM, baudM, timeout=1)\n",
    "    print(\"Connect _ MD400T\")\n",
    "except:\n",
    "    print(\"Not Connect _ MD400T _\")\n",
    "\n"
   ]
  },
  {
   "cell_type": "code",
   "execution_count": 5,
   "metadata": {},
   "outputs": [],
   "source": [
    "def speed_msg(L_SPD, R_SPD): # SPEED MSG\n",
    "    MOTOR_L_SPD = [L_SPD & 255,(L_SPD >> 8)&255] # SPEED LOW\n",
    "    MOTOR_R_SPD = [R_SPD & 255,(R_SPD >> 8)&255] # SPEED HI\n",
    "    send_msg = [RMID, TMID, ID, PID_CMD, DATA_NUM, WHEEL_L_ENABLE, MOTOR_L_SPD[0],MOTOR_L_SPD[1],WHEEL_R_ENABLE,MOTOR_R_SPD[0],MOTOR_R_SPD[1],DUMMY]\n",
    "    CHC = (~sum(send_msg)+1)&255 # CHECKSUM\n",
    "    send_msg.append(CHC) # CHC 추가\n",
    "    serM.write(send_msg) # MD400T 송신\n",
    "    return\n",
    "\n",
    "def stop_msg(): # STOP MSG\n",
    "    return speed_msg(0,0)\n",
    "\n",
    "def monitoring_bc(on): # MAIN DATA monitoring ON(1) / OFF(0)\n",
    "    if on == 1:\n",
    "        send_msg = [RMID, TMID, ID, 10, 1, 5, 128]\n",
    "        return serM.write(send_msg)\n",
    "    elif on == 0:\n",
    "        send_msg = [RMID, TMID, ID, 10, 1, 6, 127]\n",
    "        return serM.write(send_msg)\n",
    "    \n",
    "def data_monitor(n): # MAIN DATA Monitoring 값 추출\n",
    "    return bytearray(serM.read(23))[n]\n",
    "\n",
    "def vel_speed_msg(i):\n",
    "    rad = 0.1375            # 바퀴 반지름\n",
    "    rpm = (2*3.14*rad)      # 한바퀴 돌아갈때 거리 약 0.83m\n",
    "    spd = i*60\n",
    "    vel_spd_msg = int((spd/rpm)*15)\n",
    "    speed_msg(vel_spd_msg,-vel_spd_msg)\n",
    "    \n"
   ]
  },
  {
   "cell_type": "code",
   "execution_count": 48,
   "metadata": {},
   "outputs": [],
   "source": [
    "speed_msg(100,100)"
   ]
  },
  {
   "cell_type": "code",
   "execution_count": 128,
   "metadata": {},
   "outputs": [],
   "source": [
    "speed_msg(0,0)"
   ]
  },
  {
   "cell_type": "code",
   "execution_count": 7,
   "metadata": {},
   "outputs": [
    {
     "ename": "TypeError",
     "evalue": "data_monitor() takes 0 positional arguments but 1 was given",
     "output_type": "error",
     "traceback": [
      "\u001b[0;31m---------------------------------------------------------------------------\u001b[0m",
      "\u001b[0;31mTypeError\u001b[0m                                 Traceback (most recent call last)",
      "Cell \u001b[0;32mIn [7], line 7\u001b[0m\n\u001b[1;32m      4\u001b[0m         \u001b[38;5;28mprint\u001b[39m(\u001b[38;5;28mbytearray\u001b[39m(serM\u001b[38;5;241m.\u001b[39mread(\u001b[38;5;241m23\u001b[39m))[i])\n\u001b[1;32m      5\u001b[0m     \u001b[38;5;28mprint\u001b[39m(data_monitor_list)\n\u001b[0;32m----> 7\u001b[0m \u001b[43mdata_monitor\u001b[49m\u001b[43m(\u001b[49m\u001b[38;5;241;43m23\u001b[39;49m\u001b[43m)\u001b[49m\n",
      "\u001b[0;31mTypeError\u001b[0m: data_monitor() takes 0 positional arguments but 1 was given"
     ]
    }
   ],
   "source": [
    "def data_monitor():\n",
    "    dm_list = []\n",
    "    "
   ]
  },
  {
   "cell_type": "code",
   "execution_count": 101,
   "metadata": {},
   "outputs": [],
   "source": [
    "rad = 0.1375\n",
    "pi = 3.14159\n",
    "\n",
    "RPM = (2*pi*rad)"
   ]
  },
  {
   "cell_type": "code",
   "execution_count": 109,
   "metadata": {},
   "outputs": [
    {
     "name": "stdout",
     "output_type": "stream",
     "text": [
      "520\n",
      "1041\n",
      "1562\n",
      "2083\n"
     ]
    }
   ],
   "source": [
    "print(int((30/RPM)*15))     # 0.5m/s\n",
    "print(int((60/RPM)*15))     # 1m/s\n",
    "print(int((90/RPM)*15))     # 1.5m/s\n",
    "print(int((120/RPM)*15))    # 2m/s"
   ]
  },
  {
   "cell_type": "code",
   "execution_count": 120,
   "metadata": {},
   "outputs": [],
   "source": [
    "def vel_speed_msg(i):\n",
    "    rad = 0.1375            # 바퀴 반지름\n",
    "    rpm = (2*3.14*rad)      # 한바퀴 돌아갈때 거리 약 0.83m\n",
    "    spd = i*60\n",
    "    vel_spd_msg = int((spd/rpm)*15)\n",
    "    speed_msg(vel_spd_msg,-vel_spd_msg)\n",
    "    "
   ]
  },
  {
   "cell_type": "code",
   "execution_count": 123,
   "metadata": {},
   "outputs": [],
   "source": [
    "vel_speed_msg(1)"
   ]
  },
  {
   "cell_type": "code",
   "execution_count": 127,
   "metadata": {},
   "outputs": [
    {
     "name": "stdout",
     "output_type": "stream",
     "text": [
      "184\n",
      "183\n",
      "1\n",
      "193\n",
      "17\n",
      "0\n",
      "0\n",
      "0\n",
      "0\n",
      "1\n",
      "0\n",
      "0\n",
      "6\n",
      "0\n",
      "0\n",
      "255\n",
      "153\n",
      "1\n",
      "0\n",
      "0\n",
      "28\n",
      "0\n",
      "2\n"
     ]
    }
   ],
   "source": [
    "for i in range(23):\n",
    "    print(data_monitor(i))"
   ]
  },
  {
   "cell_type": "code",
   "execution_count": null,
   "metadata": {},
   "outputs": [],
   "source": []
  }
 ],
 "metadata": {
  "kernelspec": {
   "display_name": "Python 3.8.13 ('md': conda)",
   "language": "python",
   "name": "python3"
  },
  "language_info": {
   "codemirror_mode": {
    "name": "ipython",
    "version": 3
   },
   "file_extension": ".py",
   "mimetype": "text/x-python",
   "name": "python",
   "nbconvert_exporter": "python",
   "pygments_lexer": "ipython3",
   "version": "3.8.13"
  },
  "orig_nbformat": 4,
  "vscode": {
   "interpreter": {
    "hash": "389d4f5da5123d14bdb6703ed7f993f4a8844c786541318d646b154e39418212"
   }
  }
 },
 "nbformat": 4,
 "nbformat_minor": 2
}
