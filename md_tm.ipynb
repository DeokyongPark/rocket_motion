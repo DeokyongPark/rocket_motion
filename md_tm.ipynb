{
 "cells": [
  {
   "cell_type": "code",
   "execution_count": 1,
   "metadata": {},
   "outputs": [],
   "source": [
    "import serial\n",
    "import time\n",
    "import threading\n",
    "import struct\n",
    "import string\n",
    "from collections import deque\n",
    "import numpy as np\n",
    "from collections import Counter\n",
    "from decimal import Decimal\n",
    "\n",
    "RMID = 183          # RMID\n",
    "TMID = 184          # TMID\n",
    "ID = 1              # ID\n",
    "PID_MAINBC = 10     # PID (MAINBC)\n",
    "PID_CMD = 207       # PID (207 = RPM)\n",
    "DATA_NUM = 7        # PID 207 DATA_NUM\n",
    "WHEEL_L_ENABLE = 1  # L모터 Enable\n",
    "WHEEL_R_ENABLE = 1  # R모터 Enable\n",
    "DUMMY = 0           # CRC 전 DUMMY\n"
   ]
  },
  {
   "cell_type": "code",
   "execution_count": 2,
   "metadata": {},
   "outputs": [],
   "source": [
    "def speed_msg(L_SPD, R_SPD):\n",
    "    portM = \"/dev/ttyMD400\" #PC에 연결된 포트명\n",
    "    baudM = 57600  # 시리얼 보드레이트(통신속도)\n",
    "    serM = serial.Serial(portM, baudM, timeout=1)\n",
    "    MOTOR_L_SPD = [L_SPD & 255,(L_SPD >> 8)&255]\n",
    "    MOTOR_R_SPD = [R_SPD & 255,(R_SPD >> 8)&255]\n",
    "    send_msg = [RMID, TMID, ID, PID_CMD, DATA_NUM, WHEEL_L_ENABLE, MOTOR_L_SPD[0],MOTOR_L_SPD[1],WHEEL_R_ENABLE,MOTOR_R_SPD[0],MOTOR_R_SPD[1],DUMMY]\n",
    "    CHC=(~sum(send_msg)+1)&255\n",
    "    send_msg.append(CHC)\n",
    "    serM.write(send_msg)\n",
    "    #print(L_SPD , 'SUCCESS')\n",
    "    return"
   ]
  },
  {
   "cell_type": "code",
   "execution_count": 3,
   "metadata": {},
   "outputs": [
    {
     "ename": "SerialException",
     "evalue": "[Errno 2] could not open port /dev/ttyACM3: [Errno 2] No such file or directory: '/dev/ttyACM3'",
     "output_type": "error",
     "traceback": [
      "\u001b[0;31m---------------------------------------------------------------------------\u001b[0m",
      "\u001b[0;31mFileNotFoundError\u001b[0m                         Traceback (most recent call last)",
      "File \u001b[0;32m~/anaconda3/envs/md/lib/python3.8/site-packages/serial/serialposix.py:322\u001b[0m, in \u001b[0;36mSerial.open\u001b[0;34m(self)\u001b[0m\n\u001b[1;32m    321\u001b[0m \u001b[39mtry\u001b[39;00m:\n\u001b[0;32m--> 322\u001b[0m     \u001b[39mself\u001b[39m\u001b[39m.\u001b[39mfd \u001b[39m=\u001b[39m os\u001b[39m.\u001b[39;49mopen(\u001b[39mself\u001b[39;49m\u001b[39m.\u001b[39;49mportstr, os\u001b[39m.\u001b[39;49mO_RDWR \u001b[39m|\u001b[39;49m os\u001b[39m.\u001b[39;49mO_NOCTTY \u001b[39m|\u001b[39;49m os\u001b[39m.\u001b[39;49mO_NONBLOCK)\n\u001b[1;32m    323\u001b[0m \u001b[39mexcept\u001b[39;00m \u001b[39mOSError\u001b[39;00m \u001b[39mas\u001b[39;00m msg:\n",
      "\u001b[0;31mFileNotFoundError\u001b[0m: [Errno 2] No such file or directory: '/dev/ttyACM3'",
      "\nDuring handling of the above exception, another exception occurred:\n",
      "\u001b[0;31mSerialException\u001b[0m                           Traceback (most recent call last)",
      "Cell \u001b[0;32mIn [3], line 4\u001b[0m\n\u001b[1;32m      2\u001b[0m Rport \u001b[38;5;241m=\u001b[39m \u001b[38;5;124m\"\u001b[39m\u001b[38;5;124m/dev/ttyACM4\u001b[39m\u001b[38;5;124m\"\u001b[39m \u001b[38;5;66;03m#PC에 연결된 포트명\u001b[39;00m\n\u001b[1;32m      3\u001b[0m baud \u001b[38;5;241m=\u001b[39m \u001b[38;5;241m115200\u001b[39m  \u001b[38;5;66;03m# 시리얼 보드레이트(통신속도)\u001b[39;00m\n\u001b[0;32m----> 4\u001b[0m serL \u001b[38;5;241m=\u001b[39m \u001b[43mserial\u001b[49m\u001b[38;5;241;43m.\u001b[39;49m\u001b[43mSerial\u001b[49m\u001b[43m(\u001b[49m\u001b[43mLport\u001b[49m\u001b[43m,\u001b[49m\u001b[43m \u001b[49m\u001b[43mbaud\u001b[49m\u001b[43m,\u001b[49m\u001b[43m \u001b[49m\u001b[43mtimeout\u001b[49m\u001b[38;5;241;43m=\u001b[39;49m\u001b[38;5;241;43m1\u001b[39;49m\u001b[43m)\u001b[49m\n\u001b[1;32m      5\u001b[0m serR \u001b[38;5;241m=\u001b[39m serial\u001b[38;5;241m.\u001b[39mSerial(Rport, baud, timeout\u001b[38;5;241m=\u001b[39m\u001b[38;5;241m1\u001b[39m)\n\u001b[1;32m      7\u001b[0m dist_L \u001b[38;5;241m=\u001b[39m deque([\u001b[38;5;241m0\u001b[39m,\u001b[38;5;241m0\u001b[39m,\u001b[38;5;241m0\u001b[39m,\u001b[38;5;241m0\u001b[39m,\u001b[38;5;241m0\u001b[39m])\n",
      "File \u001b[0;32m~/anaconda3/envs/md/lib/python3.8/site-packages/serial/serialutil.py:244\u001b[0m, in \u001b[0;36mSerialBase.__init__\u001b[0;34m(self, port, baudrate, bytesize, parity, stopbits, timeout, xonxoff, rtscts, write_timeout, dsrdtr, inter_byte_timeout, exclusive, **kwargs)\u001b[0m\n\u001b[1;32m    241\u001b[0m     \u001b[39mraise\u001b[39;00m \u001b[39mValueError\u001b[39;00m(\u001b[39m'\u001b[39m\u001b[39munexpected keyword arguments: \u001b[39m\u001b[39m{!r}\u001b[39;00m\u001b[39m'\u001b[39m\u001b[39m.\u001b[39mformat(kwargs))\n\u001b[1;32m    243\u001b[0m \u001b[39mif\u001b[39;00m port \u001b[39mis\u001b[39;00m \u001b[39mnot\u001b[39;00m \u001b[39mNone\u001b[39;00m:\n\u001b[0;32m--> 244\u001b[0m     \u001b[39mself\u001b[39;49m\u001b[39m.\u001b[39;49mopen()\n",
      "File \u001b[0;32m~/anaconda3/envs/md/lib/python3.8/site-packages/serial/serialposix.py:325\u001b[0m, in \u001b[0;36mSerial.open\u001b[0;34m(self)\u001b[0m\n\u001b[1;32m    323\u001b[0m \u001b[39mexcept\u001b[39;00m \u001b[39mOSError\u001b[39;00m \u001b[39mas\u001b[39;00m msg:\n\u001b[1;32m    324\u001b[0m     \u001b[39mself\u001b[39m\u001b[39m.\u001b[39mfd \u001b[39m=\u001b[39m \u001b[39mNone\u001b[39;00m\n\u001b[0;32m--> 325\u001b[0m     \u001b[39mraise\u001b[39;00m SerialException(msg\u001b[39m.\u001b[39merrno, \u001b[39m\"\u001b[39m\u001b[39mcould not open port \u001b[39m\u001b[39m{}\u001b[39;00m\u001b[39m: \u001b[39m\u001b[39m{}\u001b[39;00m\u001b[39m\"\u001b[39m\u001b[39m.\u001b[39mformat(\u001b[39mself\u001b[39m\u001b[39m.\u001b[39m_port, msg))\n\u001b[1;32m    326\u001b[0m \u001b[39m#~ fcntl.fcntl(self.fd, fcntl.F_SETFL, 0)  # set blocking\u001b[39;00m\n\u001b[1;32m    328\u001b[0m \u001b[39mself\u001b[39m\u001b[39m.\u001b[39mpipe_abort_read_r, \u001b[39mself\u001b[39m\u001b[39m.\u001b[39mpipe_abort_read_w \u001b[39m=\u001b[39m \u001b[39mNone\u001b[39;00m, \u001b[39mNone\u001b[39;00m\n",
      "\u001b[0;31mSerialException\u001b[0m: [Errno 2] could not open port /dev/ttyACM3: [Errno 2] No such file or directory: '/dev/ttyACM3'"
     ]
    }
   ],
   "source": [
    "Lport = \"/dev/ttyACM3\"\n",
    "Rport = \"/dev/ttyACM4\" #PC에 연결된 포트명\n",
    "baud = 115200  # 시리얼 보드레이트(통신속도)\n",
    "serL = serial.Serial(Lport, baud, timeout=1)\n",
    "serR = serial.Serial(Rport, baud, timeout=1)\n",
    "\n",
    "dist_L = deque([0,0,0,0,0])\n",
    "dist_R = deque([0,0,0,0,0])\n",
    "direction_Q = deque([0,0])\n",
    "last_diff = 0\n",
    "count = 0\n",
    "last_direction = 0\n",
    "while True:\n",
    "    \n",
    "    readL = 0\n",
    "    readR = 0\n",
    "    if serL.readable(): #값이 들어왔는지 확인          \n",
    "        tempL = serL.readline().decode()\n",
    "        if len(tempL) > 3:      \n",
    "            resL = Decimal(str(tempL))\n",
    "            readL = 1\n",
    "    if serR.readable(): #값이 들어왔는지 확인   \n",
    "        #print(serR.readline().decode())      \n",
    "        tempR = serR.readline().decode()\n",
    "        if len(tempR) > 3:\n",
    "            resR = Decimal(str(tempR))\n",
    "            calib = Decimal('0.03')\n",
    "            resR = resR-calib\n",
    "            readR = 1\n",
    "        \n",
    "    if readL == 1 and readR == 1:\n",
    "        current_diff = abs(resL-resR)\n",
    "        if abs(resL) < 50 and abs(resR) < 50 and abs(last_diff - current_diff) < 0.3:         \n",
    "            dist_L.append(resL)\n",
    "            dist_L.popleft()\n",
    "            dist_R.append(resR)\n",
    "            dist_R.popleft()\n",
    "        else:\n",
    "            print('filter')\n",
    "\n",
    "        resL_avg = np.mean(dist_L)\n",
    "        resR_avg = np.mean(dist_R)\n",
    "\n",
    "        if abs(resL_avg-resR_avg) <= 0.05:\n",
    "            #print(abs(resL_avg-resR_avg))\n",
    "            direction = 'Center'\n",
    "            if last_direction == 0:\n",
    "                count = count+1\n",
    "            else:\n",
    "                count = 1\n",
    "                last_direction = 0\n",
    "            if count > 1:\n",
    "                #speed_msg(0,0)\n",
    "                if resL_avg > 2.0:\n",
    "                     speed_msg(500,-500)\n",
    "                else:  \n",
    "                     speed_msg(0,0)\n",
    "            #direction_Q.append('CENTER')\n",
    "            #direction_Q.popleft()\n",
    "        #elif resL_avg > resR_avg:\n",
    "        elif (resL_avg - resR_avg) > 0.15:\n",
    "            #print(resL_avg - resR_avg)\n",
    "            direction = 'LEFT'\n",
    "            if last_direction == 1:\n",
    "                count = count+1\n",
    "            else:\n",
    "                count = 1\n",
    "                last_direction = 1\n",
    "            if count > 3:\n",
    "                speed_msg(50,50)\n",
    "                # print('LEFT_enable')\n",
    "                # if resL_avg > 3.0:\n",
    "                #     speed_msg(350,-250)\n",
    "                # else:\n",
    "                #     speed_msg(50,50)\n",
    "            #direction_Q.append('LEFT')\n",
    "            #direction_Q.popleft()\n",
    "         #else:\n",
    "        elif (resR_avg - resL_avg) > 0.15:\n",
    "            #print(resR_avg - resL_avg)\n",
    "            direction = 'RIGHT'\n",
    "            if last_direction == 2:\n",
    "                count = count+1\n",
    "            else:\n",
    "                count = 1\n",
    "                last_direction = 2\n",
    "            if count > 3:\n",
    "                speed_msg(-50,-50)\n",
    "                # print('RIGHT_ENABLE')\n",
    "                # if resL_avg > 3.0:\n",
    "                #     speed_msg(250,-350)\n",
    "                # else:\n",
    "                #     speed_msg(-50,-50)\n",
    "        else:\n",
    "            direction = 'NONE'\n",
    "            if resL_avg < 2.0:\n",
    "                speed_msg(0,0)\n",
    "            #direction_Q.append('RIGHT')\n",
    "            #direction_Q.popleft()\n",
    "        \n",
    "        #most = Counter(direction_Q).most_common(n=1)[0][0]\n",
    "        #if most == 'CENTER':\n",
    "        #    speed_msg(0,0)\n",
    "        #elif most == \"LEFT\":\n",
    "        #    speed_msg(-50,-50)\n",
    "        #elif most == \"RIGHT\":\n",
    "        #    speed_msg(50,50)\n",
    "        \n",
    "        last_diff = abs(resL-resR)\n",
    "        print(resL, resR)\n",
    "        print(resL_avg, resR_avg)\n",
    "        print(resL_avg-resR_avg, count)\n",
    "        #print(direction)\n",
    "        #print(most)\n",
    "\n",
    "stop_msg()\n",
    "serR.close()\n",
    "serL.close()"
   ]
  },
  {
   "cell_type": "code",
   "execution_count": 4,
   "metadata": {},
   "outputs": [],
   "source": [
    "speed_msg(0,0)"
   ]
  },
  {
   "cell_type": "code",
   "execution_count": 3,
   "metadata": {},
   "outputs": [],
   "source": [
    "speed_msg(100,100)"
   ]
  },
  {
   "cell_type": "code",
   "execution_count": 47,
   "metadata": {},
   "outputs": [
    {
     "data": {
      "text/plain": [
       "2.1598449493429825"
      ]
     },
     "execution_count": 47,
     "metadata": {},
     "output_type": "execute_result"
    }
   ],
   "source": [
    "#v = 2 * π* r * w / 60\n",
    "# V = 2 * math\n",
    "\n",
    "import math\n",
    "\n",
    "#전진\n",
    "def forward_spd_ms(velocity):\n",
    "    RPM = velocity / (2*3.14*0.01375) * 60\n",
    "    \n",
    "    \n",
    "    \n",
    "2*math.pi*0.01375*100/60*15"
   ]
  },
  {
   "cell_type": "code",
   "execution_count": 41,
   "metadata": {},
   "outputs": [
    {
     "name": "stdout",
     "output_type": "stream",
     "text": [
      "20834.828913848116\n"
     ]
    }
   ],
   "source": [
    "velocity = 2\n",
    "RPM = velocity/(2*math.pi*0.01375/60)\n",
    "print(RPM*15)"
   ]
  },
  {
   "cell_type": "code",
   "execution_count": 60,
   "metadata": {},
   "outputs": [
    {
     "data": {
      "text/plain": [
       "3108.6000000000004"
      ]
     },
     "execution_count": 60,
     "metadata": {},
     "output_type": "execute_result"
    }
   ],
   "source": [
    "(2*3.14*0.1375*60)*60"
   ]
  },
  {
   "cell_type": "code",
   "execution_count": null,
   "metadata": {},
   "outputs": [],
   "source": []
  }
 ],
 "metadata": {
  "kernelspec": {
   "display_name": "Python 3.8.13 ('md': conda)",
   "language": "python",
   "name": "python3"
  },
  "language_info": {
   "codemirror_mode": {
    "name": "ipython",
    "version": 3
   },
   "file_extension": ".py",
   "mimetype": "text/x-python",
   "name": "python",
   "nbconvert_exporter": "python",
   "pygments_lexer": "ipython3",
   "version": "3.8.13"
  },
  "orig_nbformat": 4,
  "vscode": {
   "interpreter": {
    "hash": "389d4f5da5123d14bdb6703ed7f993f4a8844c786541318d646b154e39418212"
   }
  }
 },
 "nbformat": 4,
 "nbformat_minor": 2
}
